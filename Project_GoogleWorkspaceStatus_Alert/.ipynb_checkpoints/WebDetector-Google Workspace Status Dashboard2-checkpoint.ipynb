{
 "cells": [
  {
   "cell_type": "code",
   "execution_count": 1,
   "id": "cb6491cd",
   "metadata": {},
   "outputs": [],
   "source": [
    "import requests\n",
    "import bs4\n",
    "from bs4 import BeautifulSoup\n",
    "import json\n",
    "import pandas as pd"
   ]
  },
  {
   "cell_type": "code",
   "execution_count": 2,
   "id": "dae00874",
   "metadata": {},
   "outputs": [],
   "source": [
    "url='https://www.google.com/appsstatus/dashboard/'\n",
    "request = requests.get(url)\n",
    "soup = bs4.BeautifulSoup(request.text)\n",
    "data = soup.find_all('tr',{'class':'product-row'})"
   ]
  },
  {
   "cell_type": "code",
   "execution_count": 3,
   "id": "4f47a692",
   "metadata": {},
   "outputs": [],
   "source": [
    "name_list = []\n",
    "status_list = []\n",
    "j = 0\n",
    "\n",
    "for i in data:\n",
    "    name = data[j].find('td',{'class':'product-name'}).text\n",
    "    #print(name)\n",
    "    name_list.append(name)\n",
    "    \n",
    "    data_day = data[j].find_all('td',{'class':'product-day'})\n",
    "    data_day7 = data_day[7]\n",
    "    status_available = data_day7.find_all('svg',{'class':'psd__status-icon psd__available'})\n",
    "    status_information = data_day7.find_all('svg',{'class':'psd__status-icon psd__information'})\n",
    "    status_disruption = data_day7.find_all('svg',{'class':'psd__status-icon psd__disruption'})\n",
    "    status_outage = data_day7.find_all('svg',{'class':'psd__status-icon psd__outage'})\n",
    "    #print(status_available)\n",
    "    #print(status_information)\n",
    "    #print(status_disruption)\n",
    "    #print(status_outage)\n",
    "    \n",
    "    if status_available != [] and status_information == [] and status_disruption == [] and status_outage == []:\n",
    "        status = 'available'\n",
    "    elif status_available == [] and status_information != [] and status_disruption == [] and status_outage == []:\n",
    "        status = 'information'\n",
    "    elif status_available == [] and status_information == [] and status_disruption != [] and status_outage == []:\n",
    "        status = 'disruption'\n",
    "    elif status_available == [] and status_information == [] and status_disruption == [] and status_outage != []:\n",
    "        status = 'outage'\n",
    "    else:\n",
    "        status = 'none'  \n",
    "    #print(status)\n",
    "    status_list.append(status)\n",
    "    \n",
    "    j +=1"
   ]
  },
  {
   "cell_type": "code",
   "execution_count": 6,
   "id": "75aa6348",
   "metadata": {},
   "outputs": [],
   "source": [
    "df_name = pd.DataFrame([name_list]).transpose()\n",
    "df_name = df_name.rename(columns={0: 'service_name'})\n",
    "df_status = pd.DataFrame([status_list]).transpose()\n",
    "df_status = df_status.rename(columns={0: 'service_status'})\n",
    "\n",
    "df_name['service_status'] = df_status['service_status']\n",
    "\n",
    "from datetime import datetime\n",
    "current_time = datetime.now().strftime('%Y-%m-%d %H:%M:%S')\n",
    "#print(current_time)\n",
    "\n",
    "df_name['current_date'] = current_time\n"
   ]
  },
  {
   "cell_type": "code",
   "execution_count": 7,
   "id": "6de64a6f",
   "metadata": {},
   "outputs": [
    {
     "ename": "KeyError",
     "evalue": "'Name'",
     "output_type": "error",
     "traceback": [
      "\u001b[1;31m---------------------------------------------------------------------------\u001b[0m",
      "\u001b[1;31mKeyError\u001b[0m                                  Traceback (most recent call last)",
      "File \u001b[1;32m~\\anaconda3\\Lib\\site-packages\\pandas\\core\\indexes\\base.py:3802\u001b[0m, in \u001b[0;36mIndex.get_loc\u001b[1;34m(self, key, method, tolerance)\u001b[0m\n\u001b[0;32m   3801\u001b[0m \u001b[38;5;28;01mtry\u001b[39;00m:\n\u001b[1;32m-> 3802\u001b[0m     \u001b[38;5;28;01mreturn\u001b[39;00m \u001b[38;5;28mself\u001b[39m\u001b[38;5;241m.\u001b[39m_engine\u001b[38;5;241m.\u001b[39mget_loc(casted_key)\n\u001b[0;32m   3803\u001b[0m \u001b[38;5;28;01mexcept\u001b[39;00m \u001b[38;5;167;01mKeyError\u001b[39;00m \u001b[38;5;28;01mas\u001b[39;00m err:\n",
      "File \u001b[1;32m~\\anaconda3\\Lib\\site-packages\\pandas\\_libs\\index.pyx:138\u001b[0m, in \u001b[0;36mpandas._libs.index.IndexEngine.get_loc\u001b[1;34m()\u001b[0m\n",
      "File \u001b[1;32m~\\anaconda3\\Lib\\site-packages\\pandas\\_libs\\index.pyx:165\u001b[0m, in \u001b[0;36mpandas._libs.index.IndexEngine.get_loc\u001b[1;34m()\u001b[0m\n",
      "File \u001b[1;32mpandas\\_libs\\hashtable_class_helper.pxi:5745\u001b[0m, in \u001b[0;36mpandas._libs.hashtable.PyObjectHashTable.get_item\u001b[1;34m()\u001b[0m\n",
      "File \u001b[1;32mpandas\\_libs\\hashtable_class_helper.pxi:5753\u001b[0m, in \u001b[0;36mpandas._libs.hashtable.PyObjectHashTable.get_item\u001b[1;34m()\u001b[0m\n",
      "\u001b[1;31mKeyError\u001b[0m: 'Name'",
      "\nThe above exception was the direct cause of the following exception:\n",
      "\u001b[1;31mKeyError\u001b[0m                                  Traceback (most recent call last)",
      "Cell \u001b[1;32mIn[7], line 6\u001b[0m\n\u001b[0;32m      3\u001b[0m url \u001b[38;5;241m=\u001b[39m \u001b[38;5;124m'\u001b[39m\u001b[38;5;124mhttps://notify-api.line.me/api/notify\u001b[39m\u001b[38;5;124m'\u001b[39m\n\u001b[0;32m      4\u001b[0m headers \u001b[38;5;241m=\u001b[39m {\u001b[38;5;124m'\u001b[39m\u001b[38;5;124mContent-Type\u001b[39m\u001b[38;5;124m'\u001b[39m: \u001b[38;5;124m'\u001b[39m\u001b[38;5;124mapplication/x-www-form-urlencoded\u001b[39m\u001b[38;5;124m'\u001b[39m,\n\u001b[0;32m      5\u001b[0m           \u001b[38;5;124m'\u001b[39m\u001b[38;5;124mAuthorization\u001b[39m\u001b[38;5;124m'\u001b[39m: \u001b[38;5;124m'\u001b[39m\u001b[38;5;124mBearer \u001b[39m\u001b[38;5;124m'\u001b[39m \u001b[38;5;241m+\u001b[39m token}\n\u001b[1;32m----> 6\u001b[0m msg \u001b[38;5;241m=\u001b[39m df_name[\u001b[38;5;124m'\u001b[39m\u001b[38;5;124mName\u001b[39m\u001b[38;5;124m'\u001b[39m][\u001b[38;5;241m0\u001b[39m]\n\u001b[0;32m      7\u001b[0m req \u001b[38;5;241m=\u001b[39m requests\u001b[38;5;241m.\u001b[39mpost(url, headers\u001b[38;5;241m=\u001b[39mheaders, data\u001b[38;5;241m=\u001b[39m {\u001b[38;5;124m'\u001b[39m\u001b[38;5;124mstickerPackageId\u001b[39m\u001b[38;5;124m'\u001b[39m: \u001b[38;5;241m4\u001b[39m, \u001b[38;5;124m'\u001b[39m\u001b[38;5;124mstickerId\u001b[39m\u001b[38;5;124m'\u001b[39m:\u001b[38;5;241m274\u001b[39m, \u001b[38;5;124m'\u001b[39m\u001b[38;5;124mmessage\u001b[39m\u001b[38;5;124m'\u001b[39m:msg})\n",
      "File \u001b[1;32m~\\anaconda3\\Lib\\site-packages\\pandas\\core\\frame.py:3807\u001b[0m, in \u001b[0;36mDataFrame.__getitem__\u001b[1;34m(self, key)\u001b[0m\n\u001b[0;32m   3805\u001b[0m \u001b[38;5;28;01mif\u001b[39;00m \u001b[38;5;28mself\u001b[39m\u001b[38;5;241m.\u001b[39mcolumns\u001b[38;5;241m.\u001b[39mnlevels \u001b[38;5;241m>\u001b[39m \u001b[38;5;241m1\u001b[39m:\n\u001b[0;32m   3806\u001b[0m     \u001b[38;5;28;01mreturn\u001b[39;00m \u001b[38;5;28mself\u001b[39m\u001b[38;5;241m.\u001b[39m_getitem_multilevel(key)\n\u001b[1;32m-> 3807\u001b[0m indexer \u001b[38;5;241m=\u001b[39m \u001b[38;5;28mself\u001b[39m\u001b[38;5;241m.\u001b[39mcolumns\u001b[38;5;241m.\u001b[39mget_loc(key)\n\u001b[0;32m   3808\u001b[0m \u001b[38;5;28;01mif\u001b[39;00m is_integer(indexer):\n\u001b[0;32m   3809\u001b[0m     indexer \u001b[38;5;241m=\u001b[39m [indexer]\n",
      "File \u001b[1;32m~\\anaconda3\\Lib\\site-packages\\pandas\\core\\indexes\\base.py:3804\u001b[0m, in \u001b[0;36mIndex.get_loc\u001b[1;34m(self, key, method, tolerance)\u001b[0m\n\u001b[0;32m   3802\u001b[0m     \u001b[38;5;28;01mreturn\u001b[39;00m \u001b[38;5;28mself\u001b[39m\u001b[38;5;241m.\u001b[39m_engine\u001b[38;5;241m.\u001b[39mget_loc(casted_key)\n\u001b[0;32m   3803\u001b[0m \u001b[38;5;28;01mexcept\u001b[39;00m \u001b[38;5;167;01mKeyError\u001b[39;00m \u001b[38;5;28;01mas\u001b[39;00m err:\n\u001b[1;32m-> 3804\u001b[0m     \u001b[38;5;28;01mraise\u001b[39;00m \u001b[38;5;167;01mKeyError\u001b[39;00m(key) \u001b[38;5;28;01mfrom\u001b[39;00m \u001b[38;5;21;01merr\u001b[39;00m\n\u001b[0;32m   3805\u001b[0m \u001b[38;5;28;01mexcept\u001b[39;00m \u001b[38;5;167;01mTypeError\u001b[39;00m:\n\u001b[0;32m   3806\u001b[0m     \u001b[38;5;66;03m# If we have a listlike key, _check_indexing_error will raise\u001b[39;00m\n\u001b[0;32m   3807\u001b[0m     \u001b[38;5;66;03m#  InvalidIndexError. Otherwise we fall through and re-raise\u001b[39;00m\n\u001b[0;32m   3808\u001b[0m     \u001b[38;5;66;03m#  the TypeError.\u001b[39;00m\n\u001b[0;32m   3809\u001b[0m     \u001b[38;5;28mself\u001b[39m\u001b[38;5;241m.\u001b[39m_check_indexing_error(key)\n",
      "\u001b[1;31mKeyError\u001b[0m: 'Name'"
     ]
    }
   ],
   "source": [
    "import requests\n",
    "token = 'JCTpIaowJgARd1GXnU4TaUVavirSMWdWDsiDHunqzqq'\n",
    "url = 'https://notify-api.line.me/api/notify'\n",
    "headers = {'Content-Type': 'application/x-www-form-urlencoded',\n",
    "          'Authorization': 'Bearer ' + token}\n",
    "msg = df_name['Name'][0]\n",
    "req = requests.post(url, headers=headers, data= {'stickerPackageId': 4, 'stickerId':274, 'message':msg})\n",
    "#print(req)\n",
    "\n"
   ]
  },
  {
   "cell_type": "code",
   "execution_count": 8,
   "id": "08fe7da6",
   "metadata": {},
   "outputs": [
    {
     "name": "stdout",
     "output_type": "stream",
     "text": [
      "Requirement already satisfied: pyodbc in c:\\users\\oerp-nbe7470-04\\anaconda3\\lib\\site-packages (4.0.34)\n"
     ]
    }
   ],
   "source": [
    "#เขียน Python ติดต่อฐานข้อมูล SSMS\n",
    "!pip install pyodbc\n",
    "#import library\n",
    "import pyodbc"
   ]
  },
  {
   "cell_type": "code",
   "execution_count": 7,
   "id": "28670f5b",
   "metadata": {},
   "outputs": [
    {
     "ename": "NameError",
     "evalue": "name 'pyodbc' is not defined",
     "output_type": "error",
     "traceback": [
      "\u001b[1;31m---------------------------------------------------------------------------\u001b[0m",
      "\u001b[1;31mNameError\u001b[0m                                 Traceback (most recent call last)",
      "Cell \u001b[1;32mIn[7], line 4\u001b[0m\n\u001b[0;32m      3\u001b[0m \u001b[38;5;28;01mtry\u001b[39;00m:\n\u001b[1;32m----> 4\u001b[0m     conn \u001b[38;5;241m=\u001b[39m pyodbc\u001b[38;5;241m.\u001b[39mconnect(\u001b[38;5;124m'\u001b[39m\u001b[38;5;124mDriver=\u001b[39m\u001b[38;5;124m{\u001b[39m\u001b[38;5;124mSQL Server};\u001b[39m\u001b[38;5;124m'\u001b[39m\n\u001b[0;32m      5\u001b[0m                           \u001b[38;5;124m'\u001b[39m\u001b[38;5;124mServer=DESKTOP-01EVDPJ\u001b[39m\u001b[38;5;124m\\\u001b[39m\u001b[38;5;124mSQLEXPRESS;\u001b[39m\u001b[38;5;124m'\u001b[39m\n\u001b[0;32m      6\u001b[0m                           \u001b[38;5;124m'\u001b[39m\u001b[38;5;124mTrusted_Connection=yes;\u001b[39m\u001b[38;5;124m'\u001b[39m\n\u001b[0;32m      7\u001b[0m                          \u001b[38;5;124m'\u001b[39m\u001b[38;5;124mautocommit=True;\u001b[39m\u001b[38;5;124m'\u001b[39m)\n\u001b[0;32m      8\u001b[0m \u001b[38;5;28;01mexcept\u001b[39;00m pyodbc\u001b[38;5;241m.\u001b[39mError \u001b[38;5;28;01mas\u001b[39;00m e:\n",
      "\u001b[1;31mNameError\u001b[0m: name 'pyodbc' is not defined",
      "\nDuring handling of the above exception, another exception occurred:\n",
      "\u001b[1;31mNameError\u001b[0m                                 Traceback (most recent call last)",
      "Cell \u001b[1;32mIn[7], line 8\u001b[0m\n\u001b[0;32m      3\u001b[0m \u001b[38;5;28;01mtry\u001b[39;00m:\n\u001b[0;32m      4\u001b[0m     conn \u001b[38;5;241m=\u001b[39m pyodbc\u001b[38;5;241m.\u001b[39mconnect(\u001b[38;5;124m'\u001b[39m\u001b[38;5;124mDriver=\u001b[39m\u001b[38;5;124m{\u001b[39m\u001b[38;5;124mSQL Server};\u001b[39m\u001b[38;5;124m'\u001b[39m\n\u001b[0;32m      5\u001b[0m                           \u001b[38;5;124m'\u001b[39m\u001b[38;5;124mServer=DESKTOP-01EVDPJ\u001b[39m\u001b[38;5;124m\\\u001b[39m\u001b[38;5;124mSQLEXPRESS;\u001b[39m\u001b[38;5;124m'\u001b[39m\n\u001b[0;32m      6\u001b[0m                           \u001b[38;5;124m'\u001b[39m\u001b[38;5;124mTrusted_Connection=yes;\u001b[39m\u001b[38;5;124m'\u001b[39m\n\u001b[0;32m      7\u001b[0m                          \u001b[38;5;124m'\u001b[39m\u001b[38;5;124mautocommit=True;\u001b[39m\u001b[38;5;124m'\u001b[39m)\n\u001b[1;32m----> 8\u001b[0m \u001b[38;5;28;01mexcept\u001b[39;00m pyodbc\u001b[38;5;241m.\u001b[39mError \u001b[38;5;28;01mas\u001b[39;00m e:\n\u001b[0;32m      9\u001b[0m     \u001b[38;5;28mprint\u001b[39m(\u001b[38;5;124m\"\u001b[39m\u001b[38;5;124mError: Could not make connection to database\u001b[39m\u001b[38;5;124m\"\u001b[39m)\n",
      "\u001b[1;31mNameError\u001b[0m: name 'pyodbc' is not defined"
     ]
    }
   ],
   "source": [
    "#Create a connection to database\n",
    "\n",
    "try:\n",
    "    conn = pyodbc.connect('Driver={SQL Server};'\n",
    "                          'Server=DESKTOP-01EVDPJ\\SQLEXPRESS;'\n",
    "                          'Trusted_Connection=yes;'\n",
    "                         'autocommit=True;')\n",
    "except pyodbc.Error as e:\n",
    "    print(\"Error: Could not make connection to database\")"
   ]
  },
  {
   "cell_type": "code",
   "execution_count": 17,
   "id": "84d14cb1",
   "metadata": {},
   "outputs": [],
   "source": [
    "#create database manual first\n",
    "\n",
    "#Close connection\n",
    "#get new cursor\n",
    "try:\n",
    "    conn.close()\n",
    "except pyodbc.Error as e:\n",
    "    print('Error: cannot close  connection')\n",
    "    \n",
    "#Re-connection and add database name\n",
    "try:\n",
    "    conn = pyodbc.connect('Driver={SQL Server};'\n",
    "                          'Server=DESKTOP-01EVDPJ\\SQLEXPRESS;'\n",
    "                          'Trusted_Connection=yes;'\n",
    "                          'Database=google_Workspace;'\n",
    "                         'autocommit=True;')\n",
    "except pyodbc.Error as e:\n",
    "    print('Error: Could not make connection to database')\n",
    "   \n",
    "try:\n",
    "    cursor = conn.cursor()\n",
    "except pyodbc.Error as e:\n",
    "    print('Error') \n",
    "    "
   ]
  },
  {
   "cell_type": "code",
   "execution_count": 63,
   "id": "f54c5f63",
   "metadata": {},
   "outputs": [
    {
     "name": "stdout",
     "output_type": "stream",
     "text": [
      "('42S01', \"[42S01] [Microsoft][ODBC SQL Server Driver][SQL Server]There is already an object named 'google_Workspace_status' in the database. (2714) (SQLExecDirectW)\")\n"
     ]
    }
   ],
   "source": [
    "#Create Table for students\n",
    "try:\n",
    "    cursor.execute(\"CREATE TABLE dbo.google_Workspace_status  (\\\n",
    "    id INT IDENTITY(1,1),\\\n",
    "    service_name varchar(50),\\\n",
    "    service_status varchar(50),\\\n",
    "    created_date smalldatetime,\\\n",
    "    modified_date smalldatetime);\")\n",
    "except pyodbc.Error as e:\n",
    "    print(e)\n",
    "    \n",
    "conn.commit()"
   ]
  },
  {
   "cell_type": "code",
   "execution_count": 18,
   "id": "81f12f0c",
   "metadata": {},
   "outputs": [],
   "source": [
    "def insertDatabase(conn, cursor, data):\n",
    "    try:\n",
    "        ins = \"INSERT INTO google_workspace.dbo.google_Workspace_status (service_name, service_status, created_date, modified_date) VALUES(?,?,?,?)\"\n",
    "        val = data[['service_name']], data[['service_status']], current_time, current_time\n",
    "\n",
    "        cursor.execute(ins,val)\n",
    "    except pyodbc.Error as e:\n",
    "        print(e)\n",
    "    conn.commit()"
   ]
  },
  {
   "cell_type": "code",
   "execution_count": null,
   "id": "1f4840c9",
   "metadata": {},
   "outputs": [],
   "source": [
    "insertDatabase(conn, cursor, df_name.iloc[[0]])"
   ]
  },
  {
   "cell_type": "code",
   "execution_count": 1,
   "id": "e3e8ee31",
   "metadata": {},
   "outputs": [
    {
     "ename": "NameError",
     "evalue": "name 'df_name' is not defined",
     "output_type": "error",
     "traceback": [
      "\u001b[1;31m---------------------------------------------------------------------------\u001b[0m",
      "\u001b[1;31mNameError\u001b[0m                                 Traceback (most recent call last)",
      "Cell \u001b[1;32mIn[1], line 1\u001b[0m\n\u001b[1;32m----> 1\u001b[0m df_name\u001b[38;5;241m.\u001b[39miloc[[\u001b[38;5;241m0\u001b[39m]]\n",
      "\u001b[1;31mNameError\u001b[0m: name 'df_name' is not defined"
     ]
    }
   ],
   "source": [
    "df_name.iloc[[0]]"
   ]
  },
  {
   "cell_type": "code",
   "execution_count": 95,
   "id": "2a77ba9b",
   "metadata": {},
   "outputs": [
    {
     "name": "stdout",
     "output_type": "stream",
     "text": [
      "(1, 'Access Approval', datetime.datetime(1900, 1, 1, 0, 0), datetime.datetime(1900, 1, 1, 0, 0), 'Python')\n",
      "5\n",
      "(2, 'Access Transparency', datetime.datetime(1900, 1, 1, 0, 0), datetime.datetime(1900, 1, 1, 0, 0), 'Python')\n",
      "5\n"
     ]
    }
   ],
   "source": [
    "#Verify the insert seccess\n",
    "\n",
    "try:\n",
    "    cursor.execute('''\n",
    "    SELECT * FROM tb_google_cloud_status.dbo.tb_google_cloud_status;\n",
    "        ''')\n",
    "except pyodbc.Error as e:\n",
    "    print(e)\n",
    "\n",
    "\n",
    "    #ฟังก์ชั่น fetchall() เป็นฟังก์ชั่นที่ใช้สำหรับดึงเอาข้อมูลของ Database มาแสดง\n",
    "    #เรียกข้อมูลของเรามาทั้งหมดที่มีอยู่ในฐานข้อมูล\n",
    "row = cursor.fetchone()\n",
    "while row:\n",
    "    print(row)\n",
    "    print(len(row))\n",
    "    row = cursor.fetchone()\n",
    "conn.commit()\n",
    "    \n"
   ]
  },
  {
   "cell_type": "code",
   "execution_count": null,
   "id": "0cd55eaa",
   "metadata": {},
   "outputs": [],
   "source": []
  }
 ],
 "metadata": {
  "kernelspec": {
   "display_name": "Python 3 (ipykernel)",
   "language": "python",
   "name": "python3"
  },
  "language_info": {
   "codemirror_mode": {
    "name": "ipython",
    "version": 3
   },
   "file_extension": ".py",
   "mimetype": "text/x-python",
   "name": "python",
   "nbconvert_exporter": "python",
   "pygments_lexer": "ipython3",
   "version": "3.11.4"
  }
 },
 "nbformat": 4,
 "nbformat_minor": 5
}
