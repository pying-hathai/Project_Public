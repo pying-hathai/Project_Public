{
 "cells": [
  {
   "cell_type": "code",
   "execution_count": 17,
   "id": "77fc96c8",
   "metadata": {},
   "outputs": [],
   "source": [
    "import requests"
   ]
  },
  {
   "cell_type": "code",
   "execution_count": 18,
   "id": "485d70f6",
   "metadata": {},
   "outputs": [],
   "source": [
    "token = 'JCTpIaowJgARd1GXnU4TaUVavirSMWdWDsiDHunqzqq'"
   ]
  },
  {
   "cell_type": "code",
   "execution_count": 19,
   "id": "71c55ec2",
   "metadata": {},
   "outputs": [
    {
     "name": "stdout",
     "output_type": "stream",
     "text": [
      "<Response [200]>\n"
     ]
    }
   ],
   "source": [
    "url = 'https://notify-api.line.me/api/notify'\n",
    "headers = {'Content-Type': 'application/x-www-form-urlencoded',\n",
    "          'Authorization': 'Bearer ' + token}\n",
    "msg = \"Hello World\"\n",
    "req = requests.post(url, headers=headers, data= {'stickerPackageId': 4, 'stickerId':274, 'message':msg})\n",
    "print(req)"
   ]
  },
  {
   "cell_type": "code",
   "execution_count": 20,
   "id": "cb6491cd",
   "metadata": {},
   "outputs": [],
   "source": [
    "import requests\n",
    "import bs4\n",
    "from bs4 import BeautifulSoup\n",
    "import json\n",
    "import pandas as pd"
   ]
  },
  {
   "cell_type": "code",
   "execution_count": 21,
   "id": "dae00874",
   "metadata": {},
   "outputs": [],
   "source": [
    "url='https://status.cloud.google.com/'"
   ]
  },
  {
   "cell_type": "code",
   "execution_count": 22,
   "id": "9457d37a",
   "metadata": {},
   "outputs": [],
   "source": [
    "request = requests.get(url)"
   ]
  },
  {
   "cell_type": "code",
   "execution_count": 23,
   "id": "d12211b5",
   "metadata": {},
   "outputs": [
    {
     "data": {
      "text/plain": [
       "<Response [200]>"
      ]
     },
     "execution_count": 23,
     "metadata": {},
     "output_type": "execute_result"
    }
   ],
   "source": [
    "request"
   ]
  },
  {
   "cell_type": "code",
   "execution_count": 24,
   "id": "ab523eb2",
   "metadata": {},
   "outputs": [],
   "source": [
    "soup = bs4.BeautifulSoup(request.text)"
   ]
  },
  {
   "cell_type": "code",
   "execution_count": 25,
   "id": "62f741b4",
   "metadata": {},
   "outputs": [],
   "source": [
    "data = soup.find('table',{'class':'j2GwVIZkdLB__regional-table'})"
   ]
  },
  {
   "cell_type": "code",
   "execution_count": 26,
   "id": "998394f5",
   "metadata": {},
   "outputs": [],
   "source": [
    "region = data.find('thead',{'class':'j2GwVIZkdLB__header'})"
   ]
  },
  {
   "cell_type": "code",
   "execution_count": 27,
   "id": "e7037b89",
   "metadata": {},
   "outputs": [],
   "source": [
    "region = region.text.split(')')"
   ]
  },
  {
   "cell_type": "code",
   "execution_count": 28,
   "id": "fa171c5f",
   "metadata": {},
   "outputs": [
    {
     "data": {
      "text/plain": [
       "['  Products  Americas (regions',\n",
       " 'Europe (regions',\n",
       " 'Asia Pacific (regions',\n",
       " 'Middle East (regions',\n",
       " 'Africa (regions',\n",
       " 'Multi-regionsGlobal ']"
      ]
     },
     "execution_count": 28,
     "metadata": {},
     "output_type": "execute_result"
    }
   ],
   "source": [
    "region"
   ]
  },
  {
   "cell_type": "code",
   "execution_count": 29,
   "id": "17c1ae6b",
   "metadata": {},
   "outputs": [],
   "source": [
    "datatr = data.find_all('tr')"
   ]
  },
  {
   "cell_type": "code",
   "execution_count": 31,
   "id": "3f8e1533",
   "metadata": {},
   "outputs": [],
   "source": [
    "product_list = []\n",
    "status_product = []"
   ]
  },
  {
   "cell_type": "code",
   "execution_count": 32,
   "id": "7eb3fa91",
   "metadata": {},
   "outputs": [],
   "source": [
    "for i in range(len(datatr)-1):\n",
    "    product_name = datatr[i].find('th',{'class':'j2GwVIZkdLB__product'}).text\n",
    "    product_list.append(product_name)\n",
    "    #print(product_name)\n",
    "    \n",
    "    status_list = []\n",
    "    for j in range(0,7):\n",
    "        status_warning = datatr[i].find_all(['td'])[j].find_all('svg',{'class':'psd__status-icon psd__warning'})\n",
    "        status_information = datatr[i].find_all(['td'])[j].find_all('svg',{'class':'psd__status-icon psd__information'})\n",
    "        status_available = datatr[i].find_all(['td'])[j].find_all('svg',{'class':'psd__status-icon psd__available'})\n",
    "        \n",
    "        if status_warning == [] and status_information == [] and status_available != []:\n",
    "            status = 'available'\n",
    "        elif status_warning == [] and status_information != [] and status_available == []:\n",
    "            status = 'information'\n",
    "        elif status_warning != [] and status_information == [] and status_available == []:\n",
    "            status = 'warning'\n",
    "        else:\n",
    "            status = 'none' \n",
    "        \n",
    "        status_list.append(status)   \n",
    "    status_product.append(status_list)\n",
    "    "
   ]
  },
  {
   "cell_type": "code",
   "execution_count": 33,
   "id": "75aa6348",
   "metadata": {},
   "outputs": [],
   "source": [
    "df_product = pd.DataFrame([product_list]).transpose()"
   ]
  },
  {
   "cell_type": "code",
   "execution_count": 34,
   "id": "5e27fcb1",
   "metadata": {},
   "outputs": [],
   "source": [
    "df_status = pd.DataFrame(status_product, columns = ['Americas','Europe','Asia_Pacific','Middle_East','Africa','Multi_regions','Global'])"
   ]
  },
  {
   "cell_type": "code",
   "execution_count": 35,
   "id": "beb7989a",
   "metadata": {},
   "outputs": [
    {
     "data": {
      "text/html": [
       "<div>\n",
       "<style scoped>\n",
       "    .dataframe tbody tr th:only-of-type {\n",
       "        vertical-align: middle;\n",
       "    }\n",
       "\n",
       "    .dataframe tbody tr th {\n",
       "        vertical-align: top;\n",
       "    }\n",
       "\n",
       "    .dataframe thead th {\n",
       "        text-align: right;\n",
       "    }\n",
       "</style>\n",
       "<table border=\"1\" class=\"dataframe\">\n",
       "  <thead>\n",
       "    <tr style=\"text-align: right;\">\n",
       "      <th></th>\n",
       "      <th>Americas</th>\n",
       "      <th>Europe</th>\n",
       "      <th>Asia_Pacific</th>\n",
       "      <th>Middle_East</th>\n",
       "      <th>Africa</th>\n",
       "      <th>Multi_regions</th>\n",
       "      <th>Global</th>\n",
       "    </tr>\n",
       "  </thead>\n",
       "  <tbody>\n",
       "    <tr>\n",
       "      <th>0</th>\n",
       "      <td>none</td>\n",
       "      <td>none</td>\n",
       "      <td>none</td>\n",
       "      <td>none</td>\n",
       "      <td>none</td>\n",
       "      <td>none</td>\n",
       "      <td>available</td>\n",
       "    </tr>\n",
       "    <tr>\n",
       "      <th>1</th>\n",
       "      <td>available</td>\n",
       "      <td>available</td>\n",
       "      <td>available</td>\n",
       "      <td>none</td>\n",
       "      <td>none</td>\n",
       "      <td>none</td>\n",
       "      <td>available</td>\n",
       "    </tr>\n",
       "    <tr>\n",
       "      <th>2</th>\n",
       "      <td>none</td>\n",
       "      <td>none</td>\n",
       "      <td>none</td>\n",
       "      <td>none</td>\n",
       "      <td>none</td>\n",
       "      <td>none</td>\n",
       "      <td>available</td>\n",
       "    </tr>\n",
       "    <tr>\n",
       "      <th>3</th>\n",
       "      <td>available</td>\n",
       "      <td>available</td>\n",
       "      <td>available</td>\n",
       "      <td>none</td>\n",
       "      <td>none</td>\n",
       "      <td>none</td>\n",
       "      <td>available</td>\n",
       "    </tr>\n",
       "    <tr>\n",
       "      <th>4</th>\n",
       "      <td>available</td>\n",
       "      <td>available</td>\n",
       "      <td>available</td>\n",
       "      <td>none</td>\n",
       "      <td>none</td>\n",
       "      <td>none</td>\n",
       "      <td>available</td>\n",
       "    </tr>\n",
       "    <tr>\n",
       "      <th>...</th>\n",
       "      <td>...</td>\n",
       "      <td>...</td>\n",
       "      <td>...</td>\n",
       "      <td>...</td>\n",
       "      <td>...</td>\n",
       "      <td>...</td>\n",
       "      <td>...</td>\n",
       "    </tr>\n",
       "    <tr>\n",
       "      <th>164</th>\n",
       "      <td>available</td>\n",
       "      <td>available</td>\n",
       "      <td>available</td>\n",
       "      <td>none</td>\n",
       "      <td>none</td>\n",
       "      <td>none</td>\n",
       "      <td>none</td>\n",
       "    </tr>\n",
       "    <tr>\n",
       "      <th>165</th>\n",
       "      <td>available</td>\n",
       "      <td>available</td>\n",
       "      <td>available</td>\n",
       "      <td>none</td>\n",
       "      <td>none</td>\n",
       "      <td>none</td>\n",
       "      <td>none</td>\n",
       "    </tr>\n",
       "    <tr>\n",
       "      <th>166</th>\n",
       "      <td>available</td>\n",
       "      <td>available</td>\n",
       "      <td>available</td>\n",
       "      <td>available</td>\n",
       "      <td>available</td>\n",
       "      <td>none</td>\n",
       "      <td>available</td>\n",
       "    </tr>\n",
       "    <tr>\n",
       "      <th>167</th>\n",
       "      <td>available</td>\n",
       "      <td>available</td>\n",
       "      <td>available</td>\n",
       "      <td>available</td>\n",
       "      <td>none</td>\n",
       "      <td>none</td>\n",
       "      <td>none</td>\n",
       "    </tr>\n",
       "    <tr>\n",
       "      <th>168</th>\n",
       "      <td>none</td>\n",
       "      <td>none</td>\n",
       "      <td>none</td>\n",
       "      <td>none</td>\n",
       "      <td>none</td>\n",
       "      <td>none</td>\n",
       "      <td>available</td>\n",
       "    </tr>\n",
       "  </tbody>\n",
       "</table>\n",
       "<p>169 rows × 7 columns</p>\n",
       "</div>"
      ],
      "text/plain": [
       "      Americas     Europe Asia_Pacific Middle_East     Africa Multi_regions  \\\n",
       "0         none       none         none        none       none          none   \n",
       "1    available  available    available        none       none          none   \n",
       "2         none       none         none        none       none          none   \n",
       "3    available  available    available        none       none          none   \n",
       "4    available  available    available        none       none          none   \n",
       "..         ...        ...          ...         ...        ...           ...   \n",
       "164  available  available    available        none       none          none   \n",
       "165  available  available    available        none       none          none   \n",
       "166  available  available    available   available  available          none   \n",
       "167  available  available    available   available       none          none   \n",
       "168       none       none         none        none       none          none   \n",
       "\n",
       "        Global  \n",
       "0    available  \n",
       "1    available  \n",
       "2    available  \n",
       "3    available  \n",
       "4    available  \n",
       "..         ...  \n",
       "164       none  \n",
       "165       none  \n",
       "166  available  \n",
       "167       none  \n",
       "168  available  \n",
       "\n",
       "[169 rows x 7 columns]"
      ]
     },
     "execution_count": 35,
     "metadata": {},
     "output_type": "execute_result"
    }
   ],
   "source": [
    "df_status"
   ]
  },
  {
   "cell_type": "code",
   "execution_count": 36,
   "id": "e83c067f",
   "metadata": {},
   "outputs": [],
   "source": [
    "df_product.columns = ['Product_Service']"
   ]
  },
  {
   "cell_type": "code",
   "execution_count": 37,
   "id": "3ade69f9",
   "metadata": {},
   "outputs": [],
   "source": [
    "df_status[['Product_Service']] = df_product[['Product_Service']]"
   ]
  },
  {
   "cell_type": "code",
   "execution_count": 38,
   "id": "eb92bc74",
   "metadata": {},
   "outputs": [
    {
     "data": {
      "text/plain": [
       "Index(['Americas', 'Europe', 'Asia_Pacific', 'Middle_East', 'Africa',\n",
       "       'Multi_regions', 'Global', 'Product_Service'],\n",
       "      dtype='object')"
      ]
     },
     "execution_count": 38,
     "metadata": {},
     "output_type": "execute_result"
    }
   ],
   "source": [
    "df_status.columns"
   ]
  },
  {
   "cell_type": "code",
   "execution_count": 39,
   "id": "f7a46f60",
   "metadata": {},
   "outputs": [],
   "source": [
    "df_status = df_status[['Product_Service','Americas', 'Europe', 'Asia_Pacific', 'Middle_East', 'Africa',\n",
    "       'Multi_regions', 'Global']]"
   ]
  },
  {
   "cell_type": "code",
   "execution_count": 40,
   "id": "b52d5b28",
   "metadata": {},
   "outputs": [
    {
     "data": {
      "text/html": [
       "<div>\n",
       "<style scoped>\n",
       "    .dataframe tbody tr th:only-of-type {\n",
       "        vertical-align: middle;\n",
       "    }\n",
       "\n",
       "    .dataframe tbody tr th {\n",
       "        vertical-align: top;\n",
       "    }\n",
       "\n",
       "    .dataframe thead th {\n",
       "        text-align: right;\n",
       "    }\n",
       "</style>\n",
       "<table border=\"1\" class=\"dataframe\">\n",
       "  <thead>\n",
       "    <tr style=\"text-align: right;\">\n",
       "      <th></th>\n",
       "      <th>Product_Service</th>\n",
       "      <th>Americas</th>\n",
       "      <th>Europe</th>\n",
       "      <th>Asia_Pacific</th>\n",
       "      <th>Middle_East</th>\n",
       "      <th>Africa</th>\n",
       "      <th>Multi_regions</th>\n",
       "      <th>Global</th>\n",
       "    </tr>\n",
       "  </thead>\n",
       "  <tbody>\n",
       "    <tr>\n",
       "      <th>0</th>\n",
       "      <td>Access Approval</td>\n",
       "      <td>none</td>\n",
       "      <td>none</td>\n",
       "      <td>none</td>\n",
       "      <td>none</td>\n",
       "      <td>none</td>\n",
       "      <td>none</td>\n",
       "      <td>available</td>\n",
       "    </tr>\n",
       "    <tr>\n",
       "      <th>1</th>\n",
       "      <td>Access Context Manager</td>\n",
       "      <td>available</td>\n",
       "      <td>available</td>\n",
       "      <td>available</td>\n",
       "      <td>none</td>\n",
       "      <td>none</td>\n",
       "      <td>none</td>\n",
       "      <td>available</td>\n",
       "    </tr>\n",
       "    <tr>\n",
       "      <th>2</th>\n",
       "      <td>Access Transparency</td>\n",
       "      <td>none</td>\n",
       "      <td>none</td>\n",
       "      <td>none</td>\n",
       "      <td>none</td>\n",
       "      <td>none</td>\n",
       "      <td>none</td>\n",
       "      <td>available</td>\n",
       "    </tr>\n",
       "    <tr>\n",
       "      <th>3</th>\n",
       "      <td>Agent Assist</td>\n",
       "      <td>available</td>\n",
       "      <td>available</td>\n",
       "      <td>available</td>\n",
       "      <td>none</td>\n",
       "      <td>none</td>\n",
       "      <td>none</td>\n",
       "      <td>available</td>\n",
       "    </tr>\n",
       "    <tr>\n",
       "      <th>4</th>\n",
       "      <td>AI Platform Prediction</td>\n",
       "      <td>available</td>\n",
       "      <td>available</td>\n",
       "      <td>available</td>\n",
       "      <td>none</td>\n",
       "      <td>none</td>\n",
       "      <td>none</td>\n",
       "      <td>available</td>\n",
       "    </tr>\n",
       "    <tr>\n",
       "      <th>...</th>\n",
       "      <td>...</td>\n",
       "      <td>...</td>\n",
       "      <td>...</td>\n",
       "      <td>...</td>\n",
       "      <td>...</td>\n",
       "      <td>...</td>\n",
       "      <td>...</td>\n",
       "      <td>...</td>\n",
       "    </tr>\n",
       "    <tr>\n",
       "      <th>164</th>\n",
       "      <td>Vertex AI Workbench User Managed Notebooks</td>\n",
       "      <td>available</td>\n",
       "      <td>available</td>\n",
       "      <td>available</td>\n",
       "      <td>none</td>\n",
       "      <td>none</td>\n",
       "      <td>none</td>\n",
       "      <td>none</td>\n",
       "    </tr>\n",
       "    <tr>\n",
       "      <th>165</th>\n",
       "      <td>Video Intelligence API</td>\n",
       "      <td>available</td>\n",
       "      <td>available</td>\n",
       "      <td>available</td>\n",
       "      <td>none</td>\n",
       "      <td>none</td>\n",
       "      <td>none</td>\n",
       "      <td>none</td>\n",
       "    </tr>\n",
       "    <tr>\n",
       "      <th>166</th>\n",
       "      <td>Virtual Private Cloud (VPC)</td>\n",
       "      <td>available</td>\n",
       "      <td>available</td>\n",
       "      <td>available</td>\n",
       "      <td>available</td>\n",
       "      <td>available</td>\n",
       "      <td>none</td>\n",
       "      <td>available</td>\n",
       "    </tr>\n",
       "    <tr>\n",
       "      <th>167</th>\n",
       "      <td>VMWare engine</td>\n",
       "      <td>available</td>\n",
       "      <td>available</td>\n",
       "      <td>available</td>\n",
       "      <td>available</td>\n",
       "      <td>none</td>\n",
       "      <td>none</td>\n",
       "      <td>none</td>\n",
       "    </tr>\n",
       "    <tr>\n",
       "      <th>168</th>\n",
       "      <td>VPC Service Controls</td>\n",
       "      <td>none</td>\n",
       "      <td>none</td>\n",
       "      <td>none</td>\n",
       "      <td>none</td>\n",
       "      <td>none</td>\n",
       "      <td>none</td>\n",
       "      <td>available</td>\n",
       "    </tr>\n",
       "  </tbody>\n",
       "</table>\n",
       "<p>169 rows × 8 columns</p>\n",
       "</div>"
      ],
      "text/plain": [
       "                                Product_Service   Americas     Europe  \\\n",
       "0                               Access Approval       none       none   \n",
       "1                        Access Context Manager  available  available   \n",
       "2                           Access Transparency       none       none   \n",
       "3                                  Agent Assist  available  available   \n",
       "4                        AI Platform Prediction  available  available   \n",
       "..                                          ...        ...        ...   \n",
       "164  Vertex AI Workbench User Managed Notebooks  available  available   \n",
       "165                      Video Intelligence API  available  available   \n",
       "166                 Virtual Private Cloud (VPC)  available  available   \n",
       "167                               VMWare engine  available  available   \n",
       "168                        VPC Service Controls       none       none   \n",
       "\n",
       "    Asia_Pacific Middle_East     Africa Multi_regions     Global  \n",
       "0           none        none       none          none  available  \n",
       "1      available        none       none          none  available  \n",
       "2           none        none       none          none  available  \n",
       "3      available        none       none          none  available  \n",
       "4      available        none       none          none  available  \n",
       "..           ...         ...        ...           ...        ...  \n",
       "164    available        none       none          none       none  \n",
       "165    available        none       none          none       none  \n",
       "166    available   available  available          none  available  \n",
       "167    available   available       none          none       none  \n",
       "168         none        none       none          none  available  \n",
       "\n",
       "[169 rows x 8 columns]"
      ]
     },
     "execution_count": 40,
     "metadata": {},
     "output_type": "execute_result"
    }
   ],
   "source": [
    "df_status"
   ]
  },
  {
   "cell_type": "code",
   "execution_count": 41,
   "id": "62feb600",
   "metadata": {},
   "outputs": [],
   "source": [
    "serviceName = df_status['Product_Service'][2]"
   ]
  },
  {
   "cell_type": "code",
   "execution_count": 42,
   "id": "aa8dd405",
   "metadata": {},
   "outputs": [
    {
     "data": {
      "text/plain": [
       "'Access Transparency'"
      ]
     },
     "execution_count": 42,
     "metadata": {},
     "output_type": "execute_result"
    }
   ],
   "source": [
    "serviceName"
   ]
  },
  {
   "cell_type": "code",
   "execution_count": 43,
   "id": "08fe7da6",
   "metadata": {},
   "outputs": [
    {
     "name": "stdout",
     "output_type": "stream",
     "text": [
      "Requirement already satisfied: pyodbc in c:\\users\\oerp-nbe7470-04\\anaconda3\\lib\\site-packages (4.0.34)\n"
     ]
    }
   ],
   "source": [
    "#เขียน Python ติดต่อฐานข้อมูล SSMS\n",
    "!pip install pyodbc\n",
    "#import library\n",
    "import pyodbc"
   ]
  },
  {
   "cell_type": "code",
   "execution_count": 44,
   "id": "28670f5b",
   "metadata": {},
   "outputs": [],
   "source": [
    "#Create a connection to database\n",
    "\n",
    "try:\n",
    "    conn = pyodbc.connect('Driver={SQL Server};'\n",
    "                          'Server=DESKTOP-01EVDPJ\\SQLEXPRESS;'\n",
    "                          'Trusted_Connection=yes;'\n",
    "                         'autocommit=True;')\n",
    "except pyodbc.Error as e:\n",
    "    print(\"Error: Could not make connection to database\")"
   ]
  },
  {
   "cell_type": "code",
   "execution_count": 45,
   "id": "84d14cb1",
   "metadata": {},
   "outputs": [],
   "source": [
    "#Close connection\n",
    "#get new cursor\n",
    "try:\n",
    "    conn.close()\n",
    "except pyodbc.Error as e:\n",
    "    print('Error: cannot close  connection')\n",
    "    \n",
    "#Re-connection and add database name\n",
    "try:\n",
    "    conn = pyodbc.connect('Driver={SQL Server};'\n",
    "                          'Server=DESKTOP-01EVDPJ\\SQLEXPRESS;'\n",
    "                          'Trusted_Connection=yes;'\n",
    "                          'Database=tb_google_cloud_status;'\n",
    "                         'autocommit=True;')\n",
    "except pyodbc.Error as e:\n",
    "    print('Error: Could not make connection to database')\n",
    "   \n",
    "\n",
    "try:\n",
    "    cursor = conn.cursor()\n",
    "except pyodbc.Error as e:\n",
    "    print('Error') \n",
    "    "
   ]
  },
  {
   "cell_type": "code",
   "execution_count": 46,
   "id": "81f12f0c",
   "metadata": {},
   "outputs": [],
   "source": [
    "try:\n",
    "    cursor.execute('''\n",
    "                INSERT INTO tb_google_cloud_status.dbo.tb_google_cloud_status (id,service_name, created_date, modified_date, message)\\\n",
    "                VALUES(?,?,?,?,?)\\\n",
    "                ''',\\\n",
    "                2,serviceName, 0, 0, 'Python'\n",
    "                )\n",
    "except pyodbc.Error as e:\n",
    "    print(e)\n",
    "conn.commit()"
   ]
  },
  {
   "cell_type": "code",
   "execution_count": 95,
   "id": "2a77ba9b",
   "metadata": {},
   "outputs": [
    {
     "name": "stdout",
     "output_type": "stream",
     "text": [
      "(1, 'Access Approval', datetime.datetime(1900, 1, 1, 0, 0), datetime.datetime(1900, 1, 1, 0, 0), 'Python')\n",
      "5\n",
      "(2, 'Access Transparency', datetime.datetime(1900, 1, 1, 0, 0), datetime.datetime(1900, 1, 1, 0, 0), 'Python')\n",
      "5\n"
     ]
    }
   ],
   "source": [
    "#Verify the insert seccess\n",
    "\n",
    "try:\n",
    "    cursor.execute('''\n",
    "    SELECT * FROM tb_google_cloud_status.dbo.tb_google_cloud_status;\n",
    "        ''')\n",
    "except pyodbc.Error as e:\n",
    "    print(e)\n",
    "\n",
    "\n",
    "    #ฟังก์ชั่น fetchall() เป็นฟังก์ชั่นที่ใช้สำหรับดึงเอาข้อมูลของ Database มาแสดง\n",
    "    #เรียกข้อมูลของเรามาทั้งหมดที่มีอยู่ในฐานข้อมูล\n",
    "row = cursor.fetchone()\n",
    "while row:\n",
    "    print(row)\n",
    "    print(len(row))\n",
    "    row = cursor.fetchone()\n",
    "conn.commit()\n",
    "    \n"
   ]
  },
  {
   "cell_type": "code",
   "execution_count": null,
   "id": "0cd55eaa",
   "metadata": {},
   "outputs": [],
   "source": []
  }
 ],
 "metadata": {
  "kernelspec": {
   "display_name": "Python 3 (ipykernel)",
   "language": "python",
   "name": "python3"
  },
  "language_info": {
   "codemirror_mode": {
    "name": "ipython",
    "version": 3
   },
   "file_extension": ".py",
   "mimetype": "text/x-python",
   "name": "python",
   "nbconvert_exporter": "python",
   "pygments_lexer": "ipython3",
   "version": "3.11.4"
  }
 },
 "nbformat": 4,
 "nbformat_minor": 5
}
