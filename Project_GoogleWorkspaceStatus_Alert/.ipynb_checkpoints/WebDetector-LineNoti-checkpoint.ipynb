{
 "cells": [
  {
   "cell_type": "code",
   "execution_count": 6,
   "id": "f78cf22e",
   "metadata": {},
   "outputs": [],
   "source": [
    "import requests"
   ]
  },
  {
   "cell_type": "code",
   "execution_count": 7,
   "id": "2220cab8",
   "metadata": {},
   "outputs": [],
   "source": [
    "token = 'JCTpIaowJgARd1GXnU4TaUVavirSMWdWDsiDHunqzqq'"
   ]
  },
  {
   "cell_type": "code",
   "execution_count": 11,
   "id": "87a0fcaa",
   "metadata": {},
   "outputs": [],
   "source": [
    "url = 'https://notify-api.line.me/api/notify'\n",
    "headers = {'Content-Type': 'application/x-www-form-urlencoded',\n",
    "          'Authorization': 'Bearer ' + token}\n",
    "msg = \"Hello World\"\n",
    "req = requests.post(url, headers=headers, data= {'stickerPackageId': 4, 'stickerId':274, 'message':msg})\n",
    "print(req)"
   ]
  },
  {
   "cell_type": "code",
   "execution_count": 14,
   "id": "46ebbc24",
   "metadata": {},
   "outputs": [
    {
     "name": "stdout",
     "output_type": "stream",
     "text": [
      "<Response [200]>\n"
     ]
    }
   ],
   "source": [
    "try:\n",
    "    cursor.execute('''\n",
    "                INSERT INTO tb_google_cloud_status.dbo.tb_google_cloud_status (service_name, created_date, modified_date, message)\\\n",
    "                VALUES(?,?,?,?,?,?)\\\n",
    "                ''',\\\n",
    "                1,'Raj', 23, 'Male', 'Python', 85\n",
    "                )\n",
    "except pyodbc.Error as e:\n",
    "    print(e)\n",
    "conn.commit()"
   ]
  },
  {
   "cell_type": "code",
   "execution_count": 15,
   "id": "fa2ff078",
   "metadata": {},
   "outputs": [],
   "source": [
    "request = requests.get(url='https://status.cloud.google.com/')"
   ]
  },
  {
   "cell_type": "code",
   "execution_count": 19,
   "id": "1ad461f7",
   "metadata": {},
   "outputs": [],
   "source": [
    "import requests\n",
    "from bs4 import BeautifulSoup"
   ]
  },
  {
   "cell_type": "code",
   "execution_count": 20,
   "id": "610b0f20",
   "metadata": {},
   "outputs": [],
   "source": [
    "soup = BeautifulSoup(request._content, \"html.parser\")"
   ]
  },
  {
   "cell_type": "code",
   "execution_count": null,
   "id": "74ef95c3",
   "metadata": {},
   "outputs": [],
   "source": []
  }
 ],
 "metadata": {
  "kernelspec": {
   "display_name": "Python 3 (ipykernel)",
   "language": "python",
   "name": "python3"
  },
  "language_info": {
   "codemirror_mode": {
    "name": "ipython",
    "version": 3
   },
   "file_extension": ".py",
   "mimetype": "text/x-python",
   "name": "python",
   "nbconvert_exporter": "python",
   "pygments_lexer": "ipython3",
   "version": "3.11.4"
  }
 },
 "nbformat": 4,
 "nbformat_minor": 5
}
