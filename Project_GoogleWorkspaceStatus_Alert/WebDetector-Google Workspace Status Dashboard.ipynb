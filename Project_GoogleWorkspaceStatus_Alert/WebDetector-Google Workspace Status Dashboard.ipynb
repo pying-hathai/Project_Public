{
 "cells": [
  {
   "attachments": {},
   "cell_type": "raw",
   "id": "94a33b46",
   "metadata": {},
   "source": [
    "to extract data from google.com/appsstatus/dashboard \n",
    "to detect google service alert status\n",
    "There are 4 status (Available, Service information, Service disruption and Service outage).\n",
    "The status example is Gmail, Google Drive, Google Meet and also the lasted service, Gemini.\t\t\t\t\t\t\t"
   ]
  },
  {
   "cell_type": "markdown",
   "id": "ca62dcd6",
   "metadata": {},
   "source": [
    "# First is Python web scraping.\n",
    "to extract data from google.com/appsstatus/dashboard and contain in dataframe."
   ]
  },
  {
   "cell_type": "code",
   "execution_count": 1,
   "id": "e5ce88b6",
   "metadata": {},
   "outputs": [],
   "source": [
    "import requests\n",
    "import bs4\n",
    "from bs4 import BeautifulSoup\n",
    "import json\n",
    "import pandas as pd"
   ]
  },
  {
   "cell_type": "code",
   "execution_count": 135,
   "id": "dae00874",
   "metadata": {},
   "outputs": [],
   "source": [
    "url='https://www.google.com/appsstatus/dashboard/'\n",
    "request = requests.get(url)\n",
    "soup = bs4.BeautifulSoup(request.text)\n",
    "data = soup.find_all('tr',{'class':'product-row'})"
   ]
  },
  {
   "cell_type": "code",
   "execution_count": 136,
   "id": "4f47a692",
   "metadata": {},
   "outputs": [],
   "source": [
    "name_list = []\n",
    "status_list = []\n",
    "j = 0\n",
    "\n",
    "for i in data:\n",
    "    name = data[j].find('td',{'class':'product-name'}).text\n",
    "    #print(name)\n",
    "    name_list.append(name)\n",
    "    \n",
    "    data_day = data[j].find_all('td',{'class':'product-day'})\n",
    "    data_day7 = data_day[7]\n",
    "    status_available = data_day7.find_all('svg',{'class':'psd__status-icon psd__available'})\n",
    "    status_information = data_day7.find_all('svg',{'class':'psd__status-icon psd__information'})\n",
    "    status_disruption = data_day7.find_all('svg',{'class':'psd__status-icon psd__disruption'})\n",
    "    status_outage = data_day7.find_all('svg',{'class':'psd__status-icon psd__outage'})\n",
    "    #print(status_available)\n",
    "    #print(status_information)\n",
    "    #print(status_disruption)\n",
    "    #print(status_outage)\n",
    "    \n",
    "    if status_available != [] and status_information == [] and status_disruption == [] and status_outage == []:\n",
    "        status = 'available'\n",
    "    elif status_available == [] and status_information != [] and status_disruption == [] and status_outage == []:\n",
    "        status = 'information'\n",
    "    elif status_available == [] and status_information == [] and status_disruption != [] and status_outage == []:\n",
    "        status = 'disruption'\n",
    "    elif status_available == [] and status_information == [] and status_disruption == [] and status_outage != []:\n",
    "        status = 'outage'\n",
    "    else:\n",
    "        status = 'none'  \n",
    "    #print(status)\n",
    "    status_list.append(status)\n",
    "    \n",
    "    j +=1"
   ]
  },
  {
   "cell_type": "code",
   "execution_count": 137,
   "id": "75aa6348",
   "metadata": {},
   "outputs": [],
   "source": [
    "df_name = pd.DataFrame([name_list]).transpose()\n",
    "df_name = df_name.rename(columns={0: 'service_name'})\n",
    "df_status = pd.DataFrame([status_list]).transpose()\n",
    "df_status = df_status.rename(columns={0: 'service_status'})\n",
    "\n",
    "df_name['service_status'] = df_status['service_status']\n"
   ]
  },
  {
   "cell_type": "code",
   "execution_count": 374,
   "id": "a24b02a3",
   "metadata": {},
   "outputs": [
    {
     "name": "stdout",
     "output_type": "stream",
     "text": [
      "2024-03-28 00:31:51\n"
     ]
    }
   ],
   "source": [
    "from datetime import datetime\n",
    "current_time = datetime.now().strftime('%Y-%m-%d %H:%M:%S')\n",
    "#print(current_time)\n",
    "\n",
    "df_name['current_date'] = current_time\n",
    "print(current_time)"
   ]
  },
  {
   "cell_type": "code",
   "execution_count": 375,
   "id": "0f3b0a50",
   "metadata": {},
   "outputs": [],
   "source": [
    "df_name['service_name2'] = df_name['service_name'].apply(lambda i:i.strip())\n",
    "\n",
    "df_name = df_name.drop(columns=['service_name'])\n",
    "df_name = df_name.rename(columns={'service_name2': 'service_name'})\n",
    "df_name = df_name.reindex(columns=['service_name', 'service_status', 'current_date'])"
   ]
  },
  {
   "cell_type": "markdown",
   "id": "489a028a",
   "metadata": {},
   "source": [
    "# Second : เขียน Python ติดต่อฐานข้อมูล SSMS"
   ]
  },
  {
   "cell_type": "code",
   "execution_count": 2,
   "id": "c64a0561",
   "metadata": {},
   "outputs": [
    {
     "name": "stdout",
     "output_type": "stream",
     "text": [
      "Requirement already satisfied: pyodbc in c:\\users\\oerp-nbe7470-04\\anaconda3\\lib\\site-packages (4.0.34)\n"
     ]
    }
   ],
   "source": [
    "#เขียน Python ติดต่อฐานข้อมูล SSMS\n",
    "!pip install pyodbc\n",
    "#import library\n",
    "import pyodbc"
   ]
  },
  {
   "cell_type": "raw",
   "id": "14a4c76c",
   "metadata": {},
   "source": [
    "#create database at ssms by manual before Create a connection to database"
   ]
  },
  {
   "cell_type": "code",
   "execution_count": 272,
   "id": "28670f5b",
   "metadata": {},
   "outputs": [],
   "source": [
    "#Create a connection to database\n",
    "\n",
    "try:\n",
    "    conn = pyodbc.connect('Driver={SQL Server};'\n",
    "                          'Server=DESKTOP-01EVDPJ\\SQLEXPRESS;'\n",
    "                          'Trusted_Connection=yes;'\n",
    "                         'autocommit=True;')\n",
    "except pyodbc.Error as e:\n",
    "    print(\"Error: Could not make connection to database\")"
   ]
  },
  {
   "cell_type": "code",
   "execution_count": 273,
   "id": "84d14cb1",
   "metadata": {},
   "outputs": [],
   "source": [
    "#Close connection\n",
    "#get new cursor\n",
    "try:\n",
    "    conn.close()\n",
    "except pyodbc.Error as e:\n",
    "    print('Error: cannot close  connection')\n",
    "    \n",
    "#Re-connection and add database name\n",
    "try:\n",
    "    conn = pyodbc.connect('Driver={SQL Server};'\n",
    "                          'Server=DESKTOP-01EVDPJ\\SQLEXPRESS;'\n",
    "                          'Trusted_Connection=yes;'\n",
    "                          'Database=google_Workspace;'\n",
    "                         'autocommit=True;')\n",
    "except pyodbc.Error as e:\n",
    "    print('Error: Could not make connection to database')\n",
    "   \n",
    "try:\n",
    "    cursor = conn.cursor()\n",
    "except pyodbc.Error as e:\n",
    "    print('Error') \n",
    "    "
   ]
  },
  {
   "cell_type": "code",
   "execution_count": 63,
   "id": "f54c5f63",
   "metadata": {},
   "outputs": [
    {
     "name": "stdout",
     "output_type": "stream",
     "text": [
      "('42S01', \"[42S01] [Microsoft][ODBC SQL Server Driver][SQL Server]There is already an object named 'google_Workspace_status' in the database. (2714) (SQLExecDirectW)\")\n"
     ]
    }
   ],
   "source": [
    "#Create Table for google_Workspace_status\n",
    "try:\n",
    "    cursor.execute(\"CREATE TABLE dbo.google_Workspace_status  (\\\n",
    "    id INT IDENTITY(1,1),\\\n",
    "    service_name varchar(50),\\\n",
    "    service_status varchar(50),\\\n",
    "    created_date smalldatetime,\\\n",
    "    modified_date smalldatetime);\")\n",
    "except pyodbc.Error as e:\n",
    "    print(e)\n",
    "    \n",
    "conn.commit()"
   ]
  },
  {
   "cell_type": "code",
   "execution_count": 347,
   "id": "6dfd13b6",
   "metadata": {},
   "outputs": [],
   "source": [
    "#create select function\n",
    "\n",
    "def select_service(conn, cursor, data, n):\n",
    "    #select_service(conn, cursor, df_name, 0)\n",
    "    try:\n",
    "        service_name_db = data['service_name'][n]\n",
    "        sel = \"SELECT * FROM google_workspace.dbo.google_Workspace_status \\\n",
    "                where service_name = \" + \"'\"+ service_name_db + \"'\" + \";\"\n",
    "        cursor.execute(sel)\n",
    "    except pyodbc.Error as e:\n",
    "        print(e)\n"
   ]
  },
  {
   "cell_type": "code",
   "execution_count": 346,
   "id": "1489ed48",
   "metadata": {},
   "outputs": [
    {
     "name": "stdout",
     "output_type": "stream",
     "text": [
      "[]\n"
     ]
    }
   ],
   "source": [
    "#select_service(conn, cursor, df_name, 0)   \n",
    "\n",
    "#ฟังก์ชั่น fetchall() เป็นฟังก์ชั่นที่ใช้สำหรับดึงเอาข้อมูลของ Database มาแสดง\n",
    "#เรียกข้อมูลของเรามาทั้งหมดที่มีอยู่ในฐานข้อมูล\n",
    "row = cursor.fetchone()\n",
    "row_list = []\n",
    "while row:\n",
    "    #print(row)\n",
    "    row_list.append(row)\n",
    "    row = cursor.fetchone()\n",
    "conn.commit()\n",
    "    \n",
    "print(row_list)"
   ]
  },
  {
   "cell_type": "code",
   "execution_count": 382,
   "id": "c802120e",
   "metadata": {},
   "outputs": [],
   "source": [
    "#create update function\n",
    "\n",
    "def update_service(conn, cursor, data, n):\n",
    "    #update_service(conn, cursor, df_name, 0)\n",
    "    \n",
    "    try:       \n",
    "        service_name_update = data['service_name'][n] \n",
    "        status_name_update = data['service_status'][n]\n",
    "        current_date_update = data['current_date'][n]\n",
    "        #current_date_update = \"2024-03-30 22:47:32\"\n",
    "        #status_name_update = 'avalibility'\n",
    "\n",
    "        sql = '''UPDATE google_workspace.dbo.google_Workspace_status \n",
    "        SET service_status = '%s' , \n",
    "        modified_date = '%s' \n",
    "        WHERE service_name = '%s' '''\n",
    "        val = (status_name_update, current_date_update, service_name_update) \n",
    "        cursor.execute(sql %val)\n",
    "\n",
    "    except pyodbc.Error as e:\n",
    "        print(e)\n",
    "    conn.commit()   \n"
   ]
  },
  {
   "cell_type": "code",
   "execution_count": null,
   "id": "af547377",
   "metadata": {},
   "outputs": [],
   "source": [
    "#create insert function\n",
    "def insert_service(conn, cursor, data, n):\n",
    "    #insert_service(conn, cursor, df_name, 0)\n",
    "    service_name_update = data['service_name'][n] \n",
    "    status_name_update = data['service_status'][n]\n",
    "    current_date_update = data['current_date'][n]\n",
    "    try:\n",
    "        ins = \"INSERT INTO google_workspace.dbo.google_Workspace_status (service_name, service_status, created_date, modified_date) VALUES(?,?,?,?)\"\n",
    "        val = service_name_update, status_name_update, current_date_update, current_date_update\n",
    "        cursor.execute(ins,val)\n",
    "    except pyodbc.Error as e:\n",
    "        print(e)\n",
    "    conn.commit()"
   ]
  },
  {
   "cell_type": "markdown",
   "id": "32881ccd",
   "metadata": {},
   "source": [
    "# Third: Send status changed to Line api "
   ]
  },
  {
   "cell_type": "code",
   "execution_count": 389,
   "id": "31120fd4",
   "metadata": {},
   "outputs": [],
   "source": [
    "import requests\n",
    "\n",
    "def linenoti(ip_msg):\n",
    "    #linenoti('Yo!')\n",
    "    token = 'JCTpIaowJgARd1GXnU4TaUVavirSMWdWDsiDHunqzqq'\n",
    "    url = 'https://notify-api.line.me/api/notify'\n",
    "    headers = {'Content-Type': 'application/x-www-form-urlencoded',\n",
    "              'Authorization': 'Bearer ' + token}\n",
    "    msg = ip_msg\n",
    "    req = requests.post(url, headers=headers, data= {'stickerPackageId': 4, 'stickerId':274, 'message':msg})\n",
    "    #print(req)"
   ]
  },
  {
   "cell_type": "markdown",
   "id": "2afb4291",
   "metadata": {},
   "source": [
    "# main"
   ]
  },
  {
   "cell_type": "code",
   "execution_count": 388,
   "id": "508abe89",
   "metadata": {},
   "outputs": [],
   "source": [
    "import requests\n",
    "\n",
    "j = 0\n",
    "for i in df_name['service_name']:  \n",
    "    service_name_j = df_name['service_name'][j]\n",
    "    service_status_current_j = df_name['service_status'][j]\n",
    "    current_date_j = df_name['current_date'][j] \n",
    "    \n",
    "    #query current service_name \n",
    "    select_service(conn, cursor, df_name, j)\n",
    "\n",
    "    #ฟังก์ชั่น fetchall() เป็นฟังก์ชั่นที่ใช้สำหรับดึงเอาข้อมูลของ Database มาแสดง\n",
    "    #เรียกข้อมูลของเรามาทั้งหมดที่มีอยู่ในฐานข้อมูล\n",
    "    row = cursor.fetchone()\n",
    "    row_list = []\n",
    "    while row:\n",
    "        #print(row)\n",
    "        row_list.append(row)\n",
    "        row = cursor.fetchone()\n",
    "    conn.commit()\n",
    "    #print(row_list)\n",
    "       \n",
    "    #ถ้ายังไม่มี service_name ใน DB ให้ insert (row_list = [])\n",
    "    if row_list == []:\n",
    "        insert_service(conn, cursor, df_name, j)\n",
    "        print(row_list)\n",
    "\n",
    "    #update current_status และ current_date\n",
    "    #ถ้า current_status ไม่ avaliable ให้ updateลง database\n",
    "    \n",
    "    #row_list\n",
    "    #[1, 'Admin Console', 'available', datetime.datetime(2024, 3, 26, 23, 21), datetime.datetime(2024, 3, 26, 23, 21)]\n",
    "    elif row_list != [] and service_status_current_j != 'available':\n",
    "        #print(row_list)\n",
    "        #print(service_status_current_j)\n",
    "        update_service(conn, cursor, df_name, j)\n",
    "        msg = 'service name : ' + service_name_j + \\\n",
    "        ' is ' + service_status_current_j + \\\n",
    "        ' on ' + current_date_j + \\\n",
    "        '\\n!!Please invetigate!!'\n",
    "        linenoti(msg)            \n",
    "    \n",
    "    j +=1 "
   ]
  },
  {
   "cell_type": "code",
   "execution_count": null,
   "id": "2a7aca71",
   "metadata": {},
   "outputs": [],
   "source": []
  }
 ],
 "metadata": {
  "kernelspec": {
   "display_name": "Python 3 (ipykernel)",
   "language": "python",
   "name": "python3"
  },
  "language_info": {
   "codemirror_mode": {
    "name": "ipython",
    "version": 3
   },
   "file_extension": ".py",
   "mimetype": "text/x-python",
   "name": "python",
   "nbconvert_exporter": "python",
   "pygments_lexer": "ipython3",
   "version": "3.11.4"
  }
 },
 "nbformat": 4,
 "nbformat_minor": 5
}
